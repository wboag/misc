{
 "cells": [
  {
   "cell_type": "code",
   "execution_count": null,
   "metadata": {},
   "outputs": [],
   "source": [
    "import re\n",
    "from collections import Counter\n",
    "import pylab as plt\n",
    "\n",
    "def count(filename):\n",
    "    with open(filename, 'r') as f:\n",
    "        text = f.read()\n",
    "    matches = map(int,re.findall(',\"stars\":(\\d)', text))\n",
    "    print 'average value:', sum(matches) / float(len(matches))\n",
    "    fig = plt.figure()\n",
    "    plt.title(filename)\n",
    "    plt.hist(matches, bins=5)\n",
    "    plt.show()\n",
    "    \n",
    "count('used_to_be.txt')\n",
    "count('used_to_be_my_favorite.txt')\n",
    "\n"
   ]
  },
  {
   "cell_type": "code",
   "execution_count": null,
   "metadata": {},
   "outputs": [],
   "source": []
  }
 ],
 "metadata": {
  "kernelspec": {
   "display_name": "Python 2",
   "language": "python",
   "name": "python2"
  },
  "language_info": {
   "codemirror_mode": {
    "name": "ipython",
    "version": 2
   },
   "file_extension": ".py",
   "mimetype": "text/x-python",
   "name": "python",
   "nbconvert_exporter": "python",
   "pygments_lexer": "ipython2",
   "version": "2.7.12"
  }
 },
 "nbformat": 4,
 "nbformat_minor": 2
}
